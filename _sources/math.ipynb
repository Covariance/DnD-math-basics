{
 "cells": [
  {
   "cell_type": "markdown",
   "metadata": {
    "tags": []
   },
   "source": [
    "# First and foremost\n",
    "\n",
    "Let's give you small excursus into discrete probability theory. There are *events* that have *probabilities*. We will mostly talk about *independant events*, which do not affect each other, such as two consequent dice rolls. In our case, *event* is a value that you rolled on your dice. For example, probability of rolling $20$ on a d20 equals to $1/20 = 0.05$. \n",
    "\n",
    "*Mathematical expectation* or *mean* is actually the mean value that you will get while rolling your dice and is defined by following formula:\n",
    "\n",
    "$$ E(a) = \\sum j \\cdot p(j)\\text{,}$$\n",
    "\n",
    "where $E(a)$ is expectation, $j$ is value rolled and $p(j)$ is probability of rolling corresponding value. Thus, for an abstract d**N** dice expectation value is:\n",
    "\n",
    "$$ E(dN) = \\sum_{j=1}^N j \\cdot p(j) = \\left(\\sum_{j=1}^N j \\right) \\cdot \\frac{1}{N} = \\frac{(N \\cdot (N+1))}{2\\cdot N} = \\frac{N+1}{2}$$\n",
    "\n",
    "There's also one very important value --- *variation*, which defines, how consistent our rolls will be:\n",
    "\n",
    "$$ Var(a) = E((a-E(a))^2) = E(a^2) - E(a)^2 $$\n",
    "\n",
    "Again, I will calculate it for an abstract d**N**:\n",
    "\n",
    "\\begin{gather*}\n",
    "    E(a^2) = \\sum_{j=1}^N j^2 \\cdot p(j) = \\left(\\sum_{j=1}^N j^2\\right) \\cdot \\frac{1}{N} = \\frac{N\\cdot(N+1)\\cdot(2N+1)}{6\\cdot N} = \\frac{(N+1)\\cdot(2N+1)}{6}\\\\\n",
    "    E(a)^2 = \\left(\\frac{N+1}{2}\\right)^2\\\\\n",
    "    Var(a) = E(a^2) - E(a)^2 = \\frac{(n^2-1)}{12}\n",
    "\\end{gather*}\n",
    "\n",
    "Thus, for d20 expectation equals to $10.5$ and deviation equals to $33.25$.\n",
    "\n",
    "All this formulas will be useful later. Let's get started."
   ]
  }
 ],
 "metadata": {
  "kernelspec": {
   "display_name": "Python 3 (ipykernel)",
   "language": "python",
   "name": "python3"
  },
  "language_info": {
   "codemirror_mode": {
    "name": "ipython",
    "version": 3
   },
   "file_extension": ".py",
   "mimetype": "text/x-python",
   "name": "python",
   "nbconvert_exporter": "python",
   "pygments_lexer": "ipython3",
   "version": "3.9.7"
  }
 },
 "nbformat": 4,
 "nbformat_minor": 4
}
