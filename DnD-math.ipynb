{
 "cells": [
  {
   "cell_type": "markdown",
   "metadata": {},
   "source": [
    "# What type of player are you?\n",
    "\n",
    "<insert pic here>\n",
    "    \n",
    "Well, honestly, I don't care. And you should not care either, because we play DnD to have fun, and people can have fun by both calculating every action to maximize the damage output and just throwing a bunch of dice at the source of problems.\n",
    "\n",
    "## What is this article about?\n",
    "\n",
    "It is mostly about combat and your efficiency as a character in combat. It also points at some major game balance issues, but this part will come online later.\n",
    "\n",
    "## Why should I read this?\n",
    "\n",
    "If you're a DM and you have to considered throwing at players some evil genius or just very exeperienced combatant, consider that he (or she) will most probably act in the most efficient way possible. Also this will help you analyze the upcoming battle and make some important decisions."
   ]
  },
  {
   "cell_type": "markdown",
   "metadata": {},
   "source": [
    "# First and foremost\n",
    "\n",
    "Let's give you small excursus into discrete probability theory. There are *events* that have *probabilities*. We will mostly talk about *independant events*, which do not affect each other, such as two consequent dice rolls. In our case, *event* is a value that you rolled on your dice. For example, probability of rolling **20** on a d20 equals to $1/20 = 0.05$. *Mathematical expectation* or *mean* is actually the mean value that you will get while rolling your dice and is defined by following formula:\n",
    "$$ E(a) = \\sum j \\cdot p(j)\\text{,}$$\n",
    "where $E(a)$ is expectation, $j$ is value rolled and $p(j)$ is probability of rolling corresponding value. Thus, for an abstract d**N** dice expectation value is:\n",
    "\n",
    "$$ E(dN) = \\sum_{j=1}^N j \\cdot p(j) = \\left(\\sum_{j=1}^N j \\right) \\cdot \\frac{1}{N} = \\frac{(N \\cdot (N+1))}{2\\cdot N} = \\frac{N+1}{2}$$\n",
    "\n",
    "There's also one very important value --- *deviation*, which defines, how consistent our rolls will be:\n",
    "\n",
    "$$ D(a) = E((a-E(a))^2) = E(a^2) - E(a)^2 $$\n",
    "\n",
    "Again, I will calculate it for an abstract d**N**:\n",
    "\n",
    "\\begin{gather*}\n",
    "    E(a^2) = \\sum_{j=1}^N j^2 \\cdot p(j) = \\left(\\sum_{j=1}^N j^2\\right) \\cdot \\frac{1}{N} = \\frac{N\\cdot(N+1)\\cdot(2N+1)}{6\\cdot N} = \\frac{(N+1)\\cdot(2N+1)}{6}\\\\\n",
    "    E(a)^2 = \\left(\\frac{N+1}{2}\\right)^2\\\\\n",
    "    D(a) = E(a^2) - E(a)^2 = \\frac{(n^2-1)}{12}\n",
    "\\end{gather*}\n",
    "\n",
    "### Thus, for d20 expectation equals to $10.5$ and deviation equals to $33.25$.\n",
    "\n",
    "All this formulas will be useful later. Let's get started."
   ]
  },
  {
   "cell_type": "markdown",
   "metadata": {},
   "source": [
    "## Advantage and Disadvantage\n",
    "When you have advantage, you roll two d20 and choose the highest. Disadvantage is same, but you choose the lowest.\n",
    "Let's write some code and calculate expectation and deviation:"
   ]
  },
  {
   "cell_type": "code",
   "execution_count": 12,
   "metadata": {},
   "outputs": [
    {
     "name": "stdout",
     "output_type": "stream",
     "text": [
      "Advantage expectation: 13.825\n",
      "Advantage deviation: 22.194375\n",
      "Disadvantage expectation: 7.175\n",
      "Disadvantage deviation: 22.194375\n"
     ]
    }
   ],
   "source": [
    "def exp(outcomes):\n",
    "    exp = 0.\n",
    "    for i in outcomes:\n",
    "        exp += i\n",
    "    exp /= len(outcomes)\n",
    "    return exp\n",
    "\n",
    "def dev(outcomes):\n",
    "    dev = 0.\n",
    "    for i in outcomes:\n",
    "        dev += i ** 2\n",
    "    dev /= len(outcomes)\n",
    "    dev -= exp(outcomes) ** 2\n",
    "    return dev\n",
    "\n",
    "advantage_outcomes = [max(x, y) for x in range(1, 21) for y in range(1, 21)]\n",
    "disadvantage_outcomes = [min(x, y) for x in range(1, 21) for y in range(1, 21)]\n",
    "\n",
    "print(\"Advantage expectation: \" + str(exp(advantage_outcomes)))\n",
    "print(\"Advantage deviation: \" + str(dev(advantage_outcomes)))\n",
    "print(\"Disadvantage expectation: \" + str(exp(disadvantage_outcomes)))\n",
    "print(\"Disadvantage deviation: \" + str(dev(disadvantage_outcomes)))"
   ]
  },
  {
   "cell_type": "markdown",
   "metadata": {},
   "source": [
    "As it can be seen, advantage adds $3.325$ to the mean and disadvantage subtracts the same value, while both of their deviations are lowered by somewhat around $11$, which means improved consistency of throws."
   ]
  },
  {
   "cell_type": "markdown",
   "metadata": {},
   "source": [
    "### Honorable mention: Elven Accuracy\n",
    "This feat is incredible in my opinion. Let's calculate expectation and deviation of a throw that is affected by this *triple-advantage feat*."
   ]
  },
  {
   "cell_type": "code",
   "execution_count": 13,
   "metadata": {},
   "outputs": [
    {
     "name": "stdout",
     "output_type": "stream",
     "text": [
      "Elven accuracy expectation: 15.4875\n",
      "Elven accuracy deviation: 14.95834375\n"
     ]
    }
   ],
   "source": [
    "elven_outcomes = [max(x, y, z) for x in range(1, 21) for y in range(1, 21) for z in range(1, 21)]\n",
    "\n",
    "print(\"Elven accuracy expectation: \" + str(exp(elven_outcomes)))\n",
    "print(\"Elven accuracy deviation: \" + str(dev(elven_outcomes)))"
   ]
  },
  {
   "cell_type": "markdown",
   "metadata": {},
   "source": [
    "This feat adds $4.9875$ to the expectation and reduces deviation by somewhat around 18, which means **greatly** improved consistency."
   ]
  },
  {
   "cell_type": "markdown",
   "metadata": {},
   "source": [
    "## Advantage versus +3 bonus: fight!\n",
    "As we have just seen, advantage must be strictly better than a +3 bonus, because it's more consistent and it's mean value is higher than that of bare +3 bonus, which will be equal to 13.5. But is it really *better* in all situations? Let's find out.\n",
    "\n",
    "Here's the graphic that shows probability to hit the target while having "
   ]
  }
 ],
 "metadata": {
  "kernelspec": {
   "display_name": "Python 3",
   "language": "python",
   "name": "python3"
  },
  "language_info": {
   "codemirror_mode": {
    "name": "ipython",
    "version": 2
   },
   "file_extension": ".py",
   "mimetype": "text/x-python",
   "name": "python",
   "nbconvert_exporter": "python",
   "pygments_lexer": "ipython2",
   "version": "2.7.17"
  }
 },
 "nbformat": 4,
 "nbformat_minor": 2
}
