{
 "cells": [
  {
   "cell_type": "markdown",
   "metadata": {},
   "source": [
    "# Advantage and Disadvantage\n",
    "When you have advantage, you roll two d20 and choose the highest. Disadvantage is same, but you choose the lowest.\n",
    "Let's write some code and calculate expectation and deviation:"
   ]
  },
  {
   "cell_type": "code",
   "execution_count": 1,
   "metadata": {},
   "outputs": [
    {
     "name": "stdout",
     "output_type": "stream",
     "text": [
      "Advantage expectation: 13.825\n",
      "Advantage deviation: 22.194375\n",
      "Disadvantage expectation: 7.175\n",
      "Disadvantage deviation: 22.194375\n"
     ]
    }
   ],
   "source": [
    "def exp(outcomes):\n",
    "    exp = 0.\n",
    "    for i in outcomes:\n",
    "        exp += i\n",
    "    exp /= len(outcomes)\n",
    "    return exp\n",
    "\n",
    "def dev(outcomes):\n",
    "    dev = 0.\n",
    "    for i in outcomes:\n",
    "        dev += i ** 2\n",
    "    dev /= len(outcomes)\n",
    "    dev -= exp(outcomes) ** 2\n",
    "    return dev\n",
    "\n",
    "advantage_outcomes = [max(x, y) for x in range(1, 21) for y in range(1, 21)]\n",
    "disadvantage_outcomes = [min(x, y) for x in range(1, 21) for y in range(1, 21)]\n",
    "\n",
    "print(\"Advantage expectation: \" + str(exp(advantage_outcomes)))\n",
    "print(\"Advantage deviation: \" + str(dev(advantage_outcomes)))\n",
    "print(\"Disadvantage expectation: \" + str(exp(disadvantage_outcomes)))\n",
    "print(\"Disadvantage deviation: \" + str(dev(disadvantage_outcomes)))"
   ]
  },
  {
   "cell_type": "markdown",
   "metadata": {},
   "source": [
    "As it can be seen, advantage adds $3.325$ to the mean and disadvantage subtracts the same value, while both of their deviations are lowered by somewhat around $11$, which means improved consistency of throws."
   ]
  },
  {
   "cell_type": "markdown",
   "metadata": {},
   "source": [
    "### Honorable mention: Elven Accuracy\n",
    "This feat is incredible in my opinion. Let's calculate expectation and deviation of a throw that is affected by this *triple-advantage feat*."
   ]
  },
  {
   "cell_type": "code",
   "execution_count": 2,
   "metadata": {},
   "outputs": [
    {
     "name": "stdout",
     "output_type": "stream",
     "text": [
      "Elven accuracy expectation: 15.4875\n",
      "Elven accuracy deviation: 14.95834375\n"
     ]
    }
   ],
   "source": [
    "elven_outcomes = [max(x, y, z) for x in range(1, 21) for y in range(1, 21) for z in range(1, 21)]\n",
    "\n",
    "print(\"Elven accuracy expectation: \" + str(exp(elven_outcomes)))\n",
    "print(\"Elven accuracy deviation: \" + str(dev(elven_outcomes)))"
   ]
  },
  {
   "cell_type": "markdown",
   "metadata": {},
   "source": [
    "This feat adds $4.9875$ to the expectation and reduces deviation by somewhat around $18$, which means **greatly** improved consistency."
   ]
  },
  {
   "cell_type": "markdown",
   "metadata": {},
   "source": [
    "## Advantage versus +3 bonus: fight!\n",
    "As we have just seen, advantage must be strictly better than a +$3$ bonus, because it's more consistent and it's mean value is higher than that of bare +$3$ bonus, which will be equal to $13.5$. But is it really *better* in all situations? Let's find out.\n",
    "\n",
    "Here's the graphic that shows probability to hit the target while having either +$3$ bonus to hit or an advantage."
   ]
  },
  {
   "cell_type": "code",
   "execution_count": 3,
   "metadata": {},
   "outputs": [
    {
     "name": "stdout",
     "output_type": "stream",
     "text": [
      "0.0975\n",
      "0.1\n"
     ]
    },
    {
     "data": {
      "image/png": "[encoded data removed]",
      "text/plain": [
       "<Figure size 432x288 with 1 Axes>"
      ]
     },
     "metadata": {
      "needs_background": "light"
     },
     "output_type": "display_data"
    }
   ],
   "source": [
    "%matplotlib inline\n",
    "\n",
    "import matplotlib.pyplot as plt\n",
    "import numpy as np\n",
    "\n",
    "def hits(AC, roll, bonus):\n",
    "    return (roll + bonus >= AC and roll != 1) or roll == 20\n",
    "\n",
    "adv_ac_hits = []\n",
    "bon3_ac_hits = []\n",
    "\n",
    "for AC in range(26):\n",
    "    adv_cnt = 0.\n",
    "    bon_cnt = 0.\n",
    "    for adv_out in advantage_outcomes:\n",
    "        if hits(AC, adv_out, 0):\n",
    "            adv_cnt += 1\n",
    "    for bon_out in range(1, 21):\n",
    "        if hits(AC, bon_out, 3):\n",
    "            bon_cnt += 1\n",
    "    adv_ac_hits.append(adv_cnt / len(advantage_outcomes))\n",
    "    bon3_ac_hits.append(bon_cnt  / 20)\n",
    "            \n",
    "print(adv_ac_hits[22])\n",
    "print(bon3_ac_hits[22])\n",
    "plt.plot(adv_ac_hits, 'r')\n",
    "plt.plot(bon3_ac_hits, 'b')\n",
    "plt.ylabel(\"Probability to hit\")\n",
    "plt.xlabel(\"AC\")\n",
    "plt.show()"
   ]
  },
  {
   "cell_type": "markdown",
   "metadata": {},
   "source": [
    "Сounterintuitively, in *some* cases constant bonus is better than advantage. It can be seen that when Armor Class is bigger or equal to $18$ and less than $23$, constant bonus is strictly better in terms of probability.\n",
    "\n",
    "It happens because when rolling with advantage, but without any bonuses, you just *can't* get any value that exceeds $20$, but with bare bonus the result can be up to $23$, which results in bare bonus being better against high AC, which advantage can penetrate only on a natural $20$."
   ]
  },
  {
   "cell_type": "code",
   "execution_count": null,
   "metadata": {},
   "outputs": [],
   "source": []
  }
 ],
 "metadata": {
  "kernelspec": {
   "display_name": "Python 3",
   "language": "python",
   "name": "python3"
  },
  "language_info": {
   "codemirror_mode": {
    "name": "ipython",
    "version": 2
   },
   "file_extension": ".py",
   "mimetype": "text/x-python",
   "name": "python",
   "nbconvert_exporter": "python",
   "pygments_lexer": "ipython2",
   "version": "2.7.17"
  }
 },
 "nbformat": 4,
 "nbformat_minor": 2
}
